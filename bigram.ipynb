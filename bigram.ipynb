{
 "cells": [
  {
   "cell_type": "code",
   "execution_count": 19,
   "id": "a534716e",
   "metadata": {},
   "outputs": [
    {
     "name": "stdout",
     "output_type": "stream",
     "text": [
      "mps\n"
     ]
    }
   ],
   "source": [
    "import torch\n",
    "import torch.nn as nn\n",
    "from torch.nn import functional as F\n",
    "device = 'mps' if torch.backends.mps.is_available() else 'cpu'\n",
    "print(device)\n",
    "block_size = 8    #HYPERPARAMETER\n",
    "batch_size = 4    #HYPERPARAMETER\n",
    "max_iters  = 1000\n",
    "# eval_interval = 2500\n",
    "learning_rate = 3e-4\n",
    "eval_iters = 250\n",
    "dropout = 0.2"
   ]
  },
  {
   "cell_type": "code",
   "execution_count": 2,
   "id": "452a96ac",
   "metadata": {},
   "outputs": [
    {
     "name": "stdout",
     "output_type": "stream",
     "text": [
      "232313\n"
     ]
    }
   ],
   "source": [
    "with open('wizard_of_oz.txt', 'r', encoding ='utf-8') as f:\n",
    "    text = f.read()\n",
    "print(len(text))"
   ]
  },
  {
   "cell_type": "code",
   "execution_count": 3,
   "id": "af9988b0-f37a-4755-8d00-e9088ea75a72",
   "metadata": {},
   "outputs": [
    {
     "data": {
      "text/plain": [
       "str"
      ]
     },
     "execution_count": 3,
     "metadata": {},
     "output_type": "execute_result"
    }
   ],
   "source": [
    "type(text)"
   ]
  },
  {
   "cell_type": "markdown",
   "id": "88ba9ef9",
   "metadata": {},
   "source": [
    "Printing the first 200 characters of the text:"
   ]
  },
  {
   "cell_type": "code",
   "execution_count": 4,
   "id": "6b583aab",
   "metadata": {},
   "outputs": [
    {
     "name": "stdout",
     "output_type": "stream",
     "text": [
      "\n",
      "\n",
      "\n",
      "\n",
      "\n",
      "  DOROTHY AND THE WIZARD IN OZ\n",
      "\n",
      "  BY\n",
      "\n",
      "  L. FRANK BAUM\n",
      "\n",
      "  AUTHOR OF THE WIZARD OF OZ, THE LAND OF OZ, OZMA OF OZ, ETC.\n",
      "\n",
      "  ILLUSTRATED BY JOHN R. NEILL\n",
      "\n",
      "  BOOKS OF WONDER WILLIAM MORROW & CO., INC.\n"
     ]
    }
   ],
   "source": [
    "print(text[:200])"
   ]
  },
  {
   "cell_type": "markdown",
   "id": "d81e5479",
   "metadata": {},
   "source": [
    "## Encoding and Decoding"
   ]
  },
  {
   "cell_type": "code",
   "execution_count": 5,
   "id": "ace52001",
   "metadata": {},
   "outputs": [
    {
     "name": "stdout",
     "output_type": "stream",
     "text": [
      "['\\n', ' ', '!', '\"', '&', \"'\", '(', ')', '*', ',', '-', '.', '0', '1', '2', '3', '4', '5', '6', '7', '8', '9', ':', ';', '?', 'A', 'B', 'C', 'D', 'E', 'F', 'G', 'H', 'I', 'J', 'K', 'L', 'M', 'N', 'O', 'P', 'Q', 'R', 'S', 'T', 'U', 'V', 'W', 'X', 'Y', 'Z', '[', ']', '_', 'a', 'b', 'c', 'd', 'e', 'f', 'g', 'h', 'i', 'j', 'k', 'l', 'm', 'n', 'o', 'p', 'q', 'r', 's', 't', 'u', 'v', 'w', 'x', 'y', 'z']\n"
     ]
    }
   ],
   "source": [
    "chars = sorted(set(text))\n",
    "print(chars)"
   ]
  },
  {
   "cell_type": "code",
   "execution_count": 6,
   "id": "139475e5",
   "metadata": {},
   "outputs": [
    {
     "name": "stdout",
     "output_type": "stream",
     "text": [
      "80\n"
     ]
    }
   ],
   "source": [
    "vocab_size = len(chars)\n",
    "print(vocab_size)"
   ]
  },
  {
   "cell_type": "code",
   "execution_count": 7,
   "id": "31766cd6",
   "metadata": {},
   "outputs": [],
   "source": [
    "string_to_int = { ch:i for i, ch in enumerate(chars) }\n",
    "int_to_string = { i:ch for i, ch in enumerate(chars) }\n",
    "encode = lambda s: [string_to_int[c] for c in s]\n",
    "decode = lambda l: ''.join([int_to_string[i] for i in l])"
   ]
  },
  {
   "cell_type": "code",
   "execution_count": 8,
   "id": "27483391",
   "metadata": {},
   "outputs": [
    {
     "data": {
      "text/plain": [
       "[61, 58, 65, 65, 68]"
      ]
     },
     "execution_count": 8,
     "metadata": {},
     "output_type": "execute_result"
    }
   ],
   "source": [
    "encoded_hello = encode('hello')\n",
    "encoded_hello"
   ]
  },
  {
   "cell_type": "code",
   "execution_count": 9,
   "id": "93ee7fa0",
   "metadata": {},
   "outputs": [
    {
     "data": {
      "text/plain": [
       "'hello'"
      ]
     },
     "execution_count": 9,
     "metadata": {},
     "output_type": "execute_result"
    }
   ],
   "source": [
    "decoded_hello = decode(encoded_hello)\n",
    "decoded_hello"
   ]
  },
  {
   "cell_type": "code",
   "execution_count": 10,
   "id": "aa59e95f",
   "metadata": {},
   "outputs": [],
   "source": [
    "data = torch.tensor(encode(text), dtype = torch.long)"
   ]
  },
  {
   "cell_type": "code",
   "execution_count": 11,
   "id": "e14fac3a",
   "metadata": {},
   "outputs": [
    {
     "name": "stdout",
     "output_type": "stream",
     "text": [
      "tensor([ 0,  0,  0,  0,  0,  1,  1, 28, 39, 42, 39, 44, 32, 49,  1, 25, 38, 28,\n",
      "         1, 44, 32, 29,  1, 47, 33, 50, 25, 42, 28,  1, 33, 38,  1, 39, 50,  0,\n",
      "         0,  1,  1, 26, 49,  0,  0,  1,  1, 36, 11,  1, 30, 42, 25, 38, 35,  1,\n",
      "        26, 25, 45, 37,  0,  0,  1,  1, 25, 45, 44, 32, 39, 42,  1, 39, 30,  1,\n",
      "        44, 32, 29,  1, 47, 33, 50, 25, 42, 28,  1, 39, 30,  1, 39, 50,  9,  1,\n",
      "        44, 32, 29,  1, 36, 25, 38, 28,  1, 39])\n"
     ]
    }
   ],
   "source": [
    "print(data[:100])"
   ]
  },
  {
   "cell_type": "markdown",
   "id": "a5a45305",
   "metadata": {},
   "source": [
    "## Training - Validation Split"
   ]
  },
  {
   "cell_type": "code",
   "execution_count": 12,
   "id": "98fe5a16",
   "metadata": {},
   "outputs": [
    {
     "name": "stdout",
     "output_type": "stream",
     "text": [
      "inputs:\n",
      "torch.Size([4, 8])\n",
      "tensor([[78,  1, 55, 68, 57, 78, 11,  1],\n",
      "        [68, 78,  1, 54, 60, 54, 62, 67],\n",
      "        [ 1, 54,  1, 72, 73, 54, 71,  9],\n",
      "        [61, 54, 73,  0, 69, 62, 56, 73]], device='mps:0')\n",
      "targets:\n",
      "tensor([[ 1, 55, 68, 57, 78, 11,  1, 44],\n",
      "        [78,  1, 54, 60, 54, 62, 67,  1],\n",
      "        [54,  1, 72, 73, 54, 71,  9,  1],\n",
      "        [54, 73,  0, 69, 62, 56, 73, 74]], device='mps:0')\n"
     ]
    }
   ],
   "source": [
    "n = int(0.8*len(data))\n",
    "train_data = data[:n]\n",
    "val_data = data[n:]\n",
    "\n",
    "def get_batch(split):\n",
    "    data = train_data if split == 'train' else val_data\n",
    "    ix = torch.randint(len(data) - block_size, (batch_size,))\n",
    " #  print(ix)\n",
    "    x = torch.stack([data[i:i+block_size] for i in ix])\n",
    "    y = torch.stack([data[i+1:i+block_size+1] for i in ix])\n",
    "    x, y = x.to(device), y.to(device)\n",
    "    return x, y\n",
    "x, y = get_batch('train')\n",
    "print('inputs:')\n",
    "print(x.shape)\n",
    "print(x)\n",
    "print('targets:')\n",
    "print(y)"
   ]
  },
  {
   "cell_type": "markdown",
   "id": "6885577f",
   "metadata": {},
   "source": [
    "## Bigram"
   ]
  },
  {
   "cell_type": "code",
   "execution_count": 13,
   "id": "10f3af16",
   "metadata": {},
   "outputs": [
    {
     "name": "stdout",
     "output_type": "stream",
     "text": [
      "when input is tensor([0]) target is tensor(0)\n",
      "when input is tensor([0, 0]) target is tensor(0)\n",
      "when input is tensor([0, 0, 0]) target is tensor(0)\n",
      "when input is tensor([0, 0, 0, 0]) target is tensor(0)\n",
      "when input is tensor([0, 0, 0, 0, 0]) target is tensor(1)\n",
      "when input is tensor([0, 0, 0, 0, 0, 1]) target is tensor(1)\n",
      "when input is tensor([0, 0, 0, 0, 0, 1, 1]) target is tensor(28)\n",
      "when input is tensor([ 0,  0,  0,  0,  0,  1,  1, 28]) target is tensor(39)\n"
     ]
    }
   ],
   "source": [
    "x = train_data[:block_size]\n",
    "y = train_data[1:block_size+1]\n",
    "\n",
    "for t in range(block_size):\n",
    "    context = x[:t+1]\n",
    "    target = y[t]\n",
    "    print('when input is', context, 'target is', target)"
   ]
  },
  {
   "cell_type": "code",
   "execution_count": 14,
   "id": "effbf90b-8f5b-4fb0-b0d2-a2a1e465f7f6",
   "metadata": {},
   "outputs": [],
   "source": [
    "@torch.no_grad()\n",
    "def estimate_loss():\n",
    "    out = {}\n",
    "    model.eval()\n",
    "    for split in ['train', 'val']:\n",
    "        losses = torch.zeros(eval_iters)\n",
    "        for k in range(eval_iters):\n",
    "            X, Y = get_batch(split)\n",
    "            logits, loss = model(X, Y)\n",
    "            losses[k] = loss.item()\n",
    "        out[split] = losses.mean()\n",
    "    model.train()\n",
    "    return out"
   ]
  },
  {
   "cell_type": "code",
   "execution_count": 15,
   "id": "f21908fd-3d9b-4c2c-9019-2fc728c64a05",
   "metadata": {},
   "outputs": [
    {
     "name": "stdout",
     "output_type": "stream",
     "text": [
      "\n",
      " xk(5a(\"?-!rqp8tGpe7CM,CYb,_ ?gp902t*ReiLJ-u:BYI\"SO72CQ1UrnKB&ogq]U]_[Cjdu ?qS\n",
      "scvfw7w'  dO-Z.'xhYIWV-i-!N\n",
      " U*sco(6op&]'emqU6TA3Xn4v7NyapI3PHFewcKf_te9m\"RBzP]_obDVl2aR.vn?OFgxcx63fqWvf&oX m\"7\"BYIOf9LOP1fTnY8*h2KHqAW[;PpFeu;\"KU\"x4Sjp1ya?xpE54!Jx(zmj(,DcpYcGL;d0V\"Rt;d2yuzcvf(n[FGNjDgpIsr];v(HP,kepxHRoDW9cj(zy8Hq?Whu\n",
      ")\"D.7h;cvfhJdTwrau.!Tz5O7[ckE4rypFgcs'*Rc5ThM\"XI wiKcRihW9hk?gX4xq(roUrqeAjB_L:W\n",
      "OX'MS]o5kW2LljB_QX&tddy\"0y.xa2aOf&xC2BkEA(AeC4qwjAa:p)bQ2L1Rku6zw7n0qUrpxji,m\"CzWgaan!mqLz\"WDu:p\n",
      "d2ZE:W\n"
     ]
    }
   ],
   "source": [
    "class BigramLanguageModel(nn.Module):\n",
    "    def __init__(self, vocab_size):\n",
    "        super().__init__()\n",
    "        self.token_embedding_table = nn.Embedding(vocab_size, vocab_size)\n",
    "\n",
    "    def forward(self, index, targets = None):\n",
    "        logits = self.token_embedding_table(index)\n",
    "\n",
    "        if targets is None:\n",
    "            loss = None\n",
    "        else:\n",
    "            B, T, C = logits.shape       # Batch_size x Time x Channels\n",
    "            logits = logits.view(B*T, C) # .view() is used to reshpae pytorch tensors\n",
    "            targets = targets.view(B*T)\n",
    "            loss = F.cross_entropy(logits, targets)\n",
    "\n",
    "        return logits, loss\n",
    "\n",
    "\n",
    "    def generate(self, index, max_new_tokens):\n",
    "        # index is (B, T array of indices in the current context\n",
    "        for _ in range(max_new_tokens):\n",
    "            # getting the predictions\n",
    "            logits , loss = self.forward(index)\n",
    "            # focus only on the last time step\n",
    "            logits = logits[:, -1, :] # becomes (B, C)\n",
    "            # applying softmax (on the last dimension) to get probabilities\n",
    "            probs = F.softmax(logits, dim = -1) # (B, C)\n",
    "            # sampling from the distribution\n",
    "            index_next = torch.multinomial(probs, num_samples = 1) # (B, 1)\n",
    "            # appending sampled index to the running sequence\n",
    "            index = torch.cat((index, index_next), dim = -1) # (B, T+1)\n",
    "        return index\n",
    "\n",
    "model = BigramLanguageModel(vocab_size)\n",
    "m = model.to(device)\n",
    "\n",
    "context = torch.zeros((1,1), dtype = torch.long, device =device)\n",
    "generated_chars = decode(m.generate(context, max_new_tokens = 500)[0].tolist())\n",
    "print(generated_chars)\n",
    "        "
   ]
  },
  {
   "cell_type": "markdown",
   "id": "be74686e-0505-4cb5-8c91-7d0ee12991fe",
   "metadata": {},
   "source": [
    "### PyTorch Optimizer"
   ]
  },
  {
   "cell_type": "code",
   "execution_count": 25,
   "id": "c454fe26-0dc4-4636-86de-68a4e9b2c238",
   "metadata": {
    "scrolled": true
   },
   "outputs": [
    {
     "name": "stdout",
     "output_type": "stream",
     "text": [
      "step: 0, train loss: 2.642, val loss: 2.668\n",
      "step: 250, train loss: 2.628, val loss: 2.649\n",
      "step: 500, train loss: 2.613, val loss: 2.652\n",
      "step: 750, train loss: 2.594, val loss: 2.647\n",
      "2.84075927734375\n"
     ]
    }
   ],
   "source": [
    "optimizer = torch.optim.AdamW(model.parameters(), lr = learning_rate)\n",
    "\n",
    "for iter in range(max_iters):\n",
    "    if iter % eval_iters == 0:\n",
    "        losses = estimate_loss()\n",
    "        print(f\"step: {iter}, train loss: {losses['train']:.3f}, val loss: {losses['val']:.3f}\")\n",
    "\n",
    "    # Sampling a batch of data\n",
    "    xb, yb = get_batch('train')\n",
    "\n",
    "    # Evaluating the loss\n",
    "    logits, loss = model.forward(xb, yb)\n",
    "    optimizer.zero_grad(set_to_none = True)\n",
    "    loss.backward()\n",
    "    optimizer.step()\n",
    "print(loss.item())"
   ]
  },
  {
   "cell_type": "code",
   "execution_count": 23,
   "id": "97a36ccf-963a-4463-b0ab-7fc7fcb3146e",
   "metadata": {},
   "outputs": [
    {
     "name": "stdout",
     "output_type": "stream",
     "text": [
      "\n",
      "Gathe, OMIixNe bofov;cy. ho upig texitss gl--leyBisave cO\"ishan..]V5UZMOZ pld theqSyoley.10T7the bQUtcu tcowherd b -! ou  an4erhe winn]3B'SFjubry; o isoua\n",
      "ake 8me bl.IXA2CHe werebDY ans fl!qwhaflth suront th, bero b.\"O0;vwewod0tinetso ZV1lidin S6FIld no teno JQo.\n",
      "\"Bly d _K0Kinu \"W[;&ZE, shangspE?])y sthiouf \"Co cloirivfJt_ufit g ngyeng y an pyo w.ou.5Pe top lugols whatte!ven aiz-is?andd h:\n",
      "ed oithiprlo['_Ioferc lowithopIste cy WL\"W\n",
      "DOFGhoome.9S&1\n",
      "the up\n",
      "y mewanim  us]XXXr lsm llenoghewzWAGpF4, t\n"
     ]
    }
   ],
   "source": [
    "context = torch.zeros((1,1), dtype = torch.long, device =device)\n",
    "generated_chars = decode(m.generate(context, max_new_tokens = 500)[0].tolist())\n",
    "print(generated_chars)"
   ]
  },
  {
   "cell_type": "markdown",
   "id": "6db1fc63-1f68-4963-8ca1-ce2ab8be3cd8",
   "metadata": {},
   "source": [
    " * **Gradient Descent** iteratively adjusts the model parameters in the direction of the steepest descent of the loss function.\n",
    " * **Momentum** *(Extension os Stochastic GD)* helps smooth out updates and allow optimizer to continue moving in gthe right direction, even if the gradient descent changes direction, particularly useful for training deep neural networks.\n",
    " * **RMSprop** helps to avoid oscillations in parameter updates and helps in faster convergence.\n",
    " * **Adam** combines Momentum and RMSprop and is a default optimizer for Deep Learning Models.\n",
    " * **AdamW** is a modification of Adam optimizer that adds weight decay to parameter updates. Helps to regularize the model.\n",
    "\n",
    "**This project uses AdamW optimizer.**"
   ]
  },
  {
   "cell_type": "markdown",
   "id": "788cddca-c73c-4043-9c3a-cab1d3c8aaba",
   "metadata": {},
   "source": [
    "### Loss Reporting"
   ]
  },
  {
   "cell_type": "code",
   "execution_count": null,
   "id": "e84d229d-e5c6-4ae1-9508-07b6d2871246",
   "metadata": {},
   "outputs": [],
   "source": []
  }
 ],
 "metadata": {
  "kernelspec": {
   "display_name": "gpu-gpt",
   "language": "python",
   "name": "gpu_kernel"
  },
  "language_info": {
   "codemirror_mode": {
    "name": "ipython",
    "version": 3
   },
   "file_extension": ".py",
   "mimetype": "text/x-python",
   "name": "python",
   "nbconvert_exporter": "python",
   "pygments_lexer": "ipython3",
   "version": "3.11.4"
  }
 },
 "nbformat": 4,
 "nbformat_minor": 5
}
