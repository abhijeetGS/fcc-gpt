{
 "cells": [
  {
   "cell_type": "code",
   "execution_count": 9,
   "id": "e6cf170a",
   "metadata": {},
   "outputs": [],
   "source": [
    "import time\n",
    "import numpy as np\n",
    "import torch\n",
    "import torch.nn.functional as F\n",
    "import torch.nn as nn"
   ]
  },
  {
   "cell_type": "code",
   "execution_count": 2,
   "id": "40c7b471",
   "metadata": {},
   "outputs": [
    {
     "name": "stdout",
     "output_type": "stream",
     "text": [
      "mps\n"
     ]
    }
   ],
   "source": [
    "device = 'mps' if torch.backends.mps.is_available() else 'cpu'\n",
    "print(device)"
   ]
  },
  {
   "cell_type": "code",
   "execution_count": 3,
   "id": "50dd36fa",
   "metadata": {},
   "outputs": [
    {
     "data": {
      "text/plain": [
       "tensor([ 51,   7,  -8,  78, -13, -12])"
      ]
     },
     "execution_count": 3,
     "metadata": {},
     "output_type": "execute_result"
    }
   ],
   "source": [
    "randint = torch.randint(-100, 100, (6,))\n",
    "randint"
   ]
  },
  {
   "cell_type": "code",
   "execution_count": 4,
   "id": "c8917887",
   "metadata": {},
   "outputs": [
    {
     "data": {
      "text/plain": [
       "tensor([[0.1000, 1.2000],\n",
       "        [2.2000, 3.0000],\n",
       "        [4.9000, 5.2000]])"
      ]
     },
     "execution_count": 4,
     "metadata": {},
     "output_type": "execute_result"
    }
   ],
   "source": [
    "tensor = torch.tensor([[0.1, 1.2], [2.2, 3], [4.9, 5.2]])\n",
    "tensor"
   ]
  },
  {
   "cell_type": "code",
   "execution_count": 5,
   "id": "50f64e4b",
   "metadata": {},
   "outputs": [
    {
     "data": {
      "text/plain": [
       "tensor([[0., 0., 0.],\n",
       "        [0., 0., 0.]])"
      ]
     },
     "execution_count": 5,
     "metadata": {},
     "output_type": "execute_result"
    }
   ],
   "source": [
    "zeros = torch.zeros(2,3)\n",
    "zeros"
   ]
  },
  {
   "cell_type": "code",
   "execution_count": 6,
   "id": "22f3f0dd",
   "metadata": {},
   "outputs": [
    {
     "data": {
      "text/plain": [
       "tensor([[1., 1., 1., 1.],\n",
       "        [1., 1., 1., 1.],\n",
       "        [1., 1., 1., 1.]])"
      ]
     },
     "execution_count": 6,
     "metadata": {},
     "output_type": "execute_result"
    }
   ],
   "source": [
    "ones = torch.ones(3,4)\n",
    "ones"
   ]
  },
  {
   "cell_type": "code",
   "execution_count": 7,
   "id": "6982510e",
   "metadata": {},
   "outputs": [
    {
     "data": {
      "text/plain": [
       "tensor([[0., 0., 0.],\n",
       "        [0., 0., 0.]])"
      ]
     },
     "execution_count": 7,
     "metadata": {},
     "output_type": "execute_result"
    }
   ],
   "source": [
    "input = torch.empty(2, 3)\n",
    "input"
   ]
  },
  {
   "cell_type": "code",
   "execution_count": 8,
   "id": "fea2b761",
   "metadata": {},
   "outputs": [
    {
     "data": {
      "text/plain": [
       "tensor([0, 1, 2, 3, 4])"
      ]
     },
     "execution_count": 8,
     "metadata": {},
     "output_type": "execute_result"
    }
   ],
   "source": [
    "arange = torch.arange(5)\n",
    "arange"
   ]
  },
  {
   "cell_type": "code",
   "execution_count": 9,
   "id": "c4dc4ba6",
   "metadata": {},
   "outputs": [
    {
     "data": {
      "text/plain": [
       "tensor([ 3.0000,  4.7500,  6.5000,  8.2500, 10.0000])"
      ]
     },
     "execution_count": 9,
     "metadata": {},
     "output_type": "execute_result"
    }
   ],
   "source": [
    "linspace = torch.linspace(3, 10, steps = 5)\n",
    "linspace"
   ]
  },
  {
   "cell_type": "code",
   "execution_count": 10,
   "id": "9d0df8ce",
   "metadata": {},
   "outputs": [
    {
     "data": {
      "text/plain": [
       "tensor([1.0000e-10, 1.0000e-05, 1.0000e+00, 1.0000e+05, 1.0000e+10])"
      ]
     },
     "execution_count": 10,
     "metadata": {},
     "output_type": "execute_result"
    }
   ],
   "source": [
    "logspace = torch.logspace(start = -10, end = 10, steps = 5)\n",
    "logspace"
   ]
  },
  {
   "cell_type": "code",
   "execution_count": 11,
   "id": "28a175c2",
   "metadata": {},
   "outputs": [
    {
     "data": {
      "text/plain": [
       "tensor([[1., 0., 0., 0., 0.],\n",
       "        [0., 1., 0., 0., 0.],\n",
       "        [0., 0., 1., 0., 0.],\n",
       "        [0., 0., 0., 1., 0.],\n",
       "        [0., 0., 0., 0., 1.]])"
      ]
     },
     "execution_count": 11,
     "metadata": {},
     "output_type": "execute_result"
    }
   ],
   "source": [
    "eye = torch.eye(5)  #Identity matrix\n",
    "eye"
   ]
  },
  {
   "cell_type": "code",
   "execution_count": 12,
   "id": "7549acc1",
   "metadata": {},
   "outputs": [
    {
     "data": {
      "text/plain": [
       "tensor([[0, 0, 0],\n",
       "        [0, 0, 0]])"
      ]
     },
     "execution_count": 12,
     "metadata": {},
     "output_type": "execute_result"
    }
   ],
   "source": [
    "a = torch.empty((2,3), dtype=torch.int64)\n",
    "empty_like = torch.empty_like(a)\n",
    "empty_like"
   ]
  },
  {
   "cell_type": "markdown",
   "id": "ef7064c9",
   "metadata": {},
   "source": [
    "## CPU vs GPU in PyTorch"
   ]
  },
  {
   "cell_type": "code",
   "execution_count": 13,
   "id": "6c4c0b56",
   "metadata": {},
   "outputs": [
    {
     "name": "stdout",
     "output_type": "stream",
     "text": [
      "0.0001\n"
     ]
    }
   ],
   "source": [
    "start_time = time.time()\n",
    "    #Matrix Operations\n",
    "zeros = torch.zeros(1,1)\n",
    "end_time = time.time()\n",
    "\n",
    "elapsed_time = end_time - start_time\n",
    "print(f\"{elapsed_time:.4f}\")"
   ]
  },
  {
   "cell_type": "code",
   "execution_count": 15,
   "id": "07292d83",
   "metadata": {},
   "outputs": [
    {
     "name": "stdout",
     "output_type": "stream",
     "text": [
      "0.15798974\n",
      "0.08695292\n"
     ]
    },
    {
     "name": "stderr",
     "output_type": "stream",
     "text": [
      "/var/folders/qt/9p20j20n2c5_4r46tzhtf8k40000gn/T/ipykernel_68652/3561224298.py:17: DeprecationWarning: __array_wrap__ must accept context and return_scalar arguments (positionally) in the future. (Deprecated NumPy 2.0)\n",
      "  rand = np.multiply(np_rand1, np_rand2)\n"
     ]
    }
   ],
   "source": [
    "torch_rand1 = torch.rand(100, 100, 100, 100).to(device)\n",
    "torch_rand2 = torch.rand(100, 100, 100, 100).to(device)\n",
    "np_rand1 = torch.rand(100, 100, 100, 100)\n",
    "np_rand2 = torch.rand(100, 100, 100, 100)\n",
    "\n",
    "start_time = time.time()\n",
    "\n",
    "rand = (torch_rand1 @ torch_rand2)\n",
    "\n",
    "end_time = time.time()\n",
    "\n",
    "gpu_elapse = end_time - start_time\n",
    "print(f\"{gpu_elapse:.8f}\")\n",
    "\n",
    "start_time = time.time()\n",
    "\n",
    "rand = np.multiply(np_rand1, np_rand2)\n",
    "\n",
    "end_time = time.time()\n",
    "\n",
    "cpu_elapse = end_time - start_time\n",
    "print(f\"{cpu_elapse:.8f}\")\n"
   ]
  },
  {
   "cell_type": "markdown",
   "id": "dd09a562",
   "metadata": {},
   "source": [
    "### Some interesting PyTorch Functions"
   ]
  },
  {
   "cell_type": "code",
   "execution_count": 19,
   "id": "e0a1abfa",
   "metadata": {},
   "outputs": [
    {
     "name": "stdout",
     "output_type": "stream",
     "text": [
      "tensor([1, 1, 1, 1, 0, 1, 1, 1, 1, 1])\n"
     ]
    }
   ],
   "source": [
    "#Probability tensor\n",
    "probabilities = torch.tensor([0.1, 0.9])\n",
    "# 10% or 0.1 corresponds to probability of getting 0\n",
    "# 90% or 0.9 corresponds to probability of getting 1\n",
    "\n",
    "samples = torch.multinomial(probabilities, num_samples = 10, replacement = True)\n",
    "print(samples)"
   ]
  },
  {
   "cell_type": "code",
   "execution_count": 21,
   "id": "2e8eebca",
   "metadata": {},
   "outputs": [
    {
     "data": {
      "text/plain": [
       "tensor([1, 2, 3, 4, 1, 2])"
      ]
     },
     "execution_count": 21,
     "metadata": {},
     "output_type": "execute_result"
    }
   ],
   "source": [
    "tensor = torch.tensor([1, 2, 3, 4])\n",
    "out = torch.cat((tensor, torch.tensor([1, 2])), dim = 0)\n",
    "out"
   ]
  },
  {
   "cell_type": "code",
   "execution_count": 22,
   "id": "cd52e39d",
   "metadata": {},
   "outputs": [
    {
     "data": {
      "text/plain": [
       "tensor([[1., 0., 0., 0., 0.],\n",
       "        [1., 1., 0., 0., 0.],\n",
       "        [1., 1., 1., 0., 0.],\n",
       "        [1., 1., 1., 1., 0.],\n",
       "        [1., 1., 1., 1., 1.]])"
      ]
     },
     "execution_count": 22,
     "metadata": {},
     "output_type": "execute_result"
    }
   ],
   "source": [
    "# Lower triangular Matrix\n",
    "out = torch.tril(torch.ones(5,5))\n",
    "out"
   ]
  },
  {
   "cell_type": "code",
   "execution_count": 24,
   "id": "73e4f0d8",
   "metadata": {},
   "outputs": [
    {
     "data": {
      "text/plain": [
       "tensor([[1., 1., 1., 1., 1.],\n",
       "        [0., 1., 1., 1., 1.],\n",
       "        [0., 0., 1., 1., 1.],\n",
       "        [0., 0., 0., 1., 1.],\n",
       "        [0., 0., 0., 0., 1.]])"
      ]
     },
     "execution_count": 24,
     "metadata": {},
     "output_type": "execute_result"
    }
   ],
   "source": [
    "# Upper Triangular Matrix\n",
    "out = torch.triu(torch.ones(5,5))\n",
    "out"
   ]
  },
  {
   "cell_type": "code",
   "execution_count": 25,
   "id": "9c4fb6b4",
   "metadata": {},
   "outputs": [
    {
     "data": {
      "text/plain": [
       "tensor([[0., -inf, -inf, -inf, -inf],\n",
       "        [0., 0., -inf, -inf, -inf],\n",
       "        [0., 0., 0., -inf, -inf],\n",
       "        [0., 0., 0., 0., -inf],\n",
       "        [0., 0., 0., 0., 0.]])"
      ]
     },
     "execution_count": 25,
     "metadata": {},
     "output_type": "execute_result"
    }
   ],
   "source": [
    "out = torch.zeros(5, 5).masked_fill(torch.tril(torch.ones(5,5)) == 0, float('-inf'))\n",
    "out"
   ]
  },
  {
   "cell_type": "markdown",
   "id": "6d64abb1",
   "metadata": {},
   "source": [
    "Exponential of the above matrix gives us lower triangular matrix"
   ]
  },
  {
   "cell_type": "code",
   "execution_count": 26,
   "id": "56afe329",
   "metadata": {},
   "outputs": [
    {
     "data": {
      "text/plain": [
       "tensor([[1., 0., 0., 0., 0.],\n",
       "        [1., 1., 0., 0., 0.],\n",
       "        [1., 1., 1., 0., 0.],\n",
       "        [1., 1., 1., 1., 0.],\n",
       "        [1., 1., 1., 1., 1.]])"
      ]
     },
     "execution_count": 26,
     "metadata": {},
     "output_type": "execute_result"
    }
   ],
   "source": [
    "torch.exp(out)"
   ]
  },
  {
   "cell_type": "code",
   "execution_count": 32,
   "id": "c06057c8",
   "metadata": {},
   "outputs": [
    {
     "data": {
      "text/plain": [
       "torch.Size([3, 2, 1])"
      ]
     },
     "execution_count": 32,
     "metadata": {},
     "output_type": "execute_result"
    }
   ],
   "source": [
    "input = torch.zeros(1, 2, 3)\n",
    "out = input.transpose(0, 2)\n",
    "out.shape"
   ]
  },
  {
   "cell_type": "code",
   "execution_count": 30,
   "id": "e935f829",
   "metadata": {},
   "outputs": [
    {
     "data": {
      "text/plain": [
       "torch.Size([2, 5, 4, 3, 6])"
      ]
     },
     "execution_count": 30,
     "metadata": {},
     "output_type": "execute_result"
    }
   ],
   "source": [
    "input = torch.zeros(2, 3, 4, 5, 6)\n",
    "out = input.transpose(1, 3)\n",
    "out.shape"
   ]
  },
  {
   "cell_type": "code",
   "execution_count": 33,
   "id": "2a0149fc",
   "metadata": {},
   "outputs": [
    {
     "data": {
      "text/plain": [
       "tensor([[1, 2, 3],\n",
       "        [4, 5, 6],\n",
       "        [7, 8, 9]])"
      ]
     },
     "execution_count": 33,
     "metadata": {},
     "output_type": "execute_result"
    }
   ],
   "source": [
    "tensor1 = torch.tensor([1, 2, 3])\n",
    "tensor2 = torch.tensor([4, 5, 6])\n",
    "tensor3 = torch.tensor([7, 8, 9])\n",
    "\n",
    "#Stacking tensors along a new dimension\n",
    "stacked_tensor = torch.stack([tensor1, tensor2, tensor3])\n",
    "stacked_tensor"
   ]
  },
  {
   "cell_type": "code",
   "execution_count": 35,
   "id": "0ecc4da0",
   "metadata": {},
   "outputs": [
    {
     "name": "stdout",
     "output_type": "stream",
     "text": [
      "torch.Size([3])\n",
      "torch.Size([3, 3])\n"
     ]
    }
   ],
   "source": [
    "print(tensor1.shape)\n",
    "print(stacked_tensor.shape)"
   ]
  },
  {
   "cell_type": "code",
   "execution_count": 36,
   "id": "a578b291",
   "metadata": {},
   "outputs": [
    {
     "name": "stdout",
     "output_type": "stream",
     "text": [
      "tensor([-9.0176,  5.7571, -9.1507], grad_fn=<SqueezeBackward4>)\n"
     ]
    }
   ],
   "source": [
    "sample = torch.tensor([10., 10., 10.])\n",
    "linear = nn.Linear(3, 3, bias = False)\n",
    "print(linear(sample))"
   ]
  },
  {
   "cell_type": "markdown",
   "id": "b08dc888",
   "metadata": {},
   "source": [
    "**Documentation:** nn.Linear applies an affine linear transformation to the incoming data:  \n",
    "\\\\[\n",
    "y = xA^T + b\n",
    "\\\\]"
   ]
  },
  {
   "cell_type": "code",
   "execution_count": 37,
   "id": "1fc030df",
   "metadata": {},
   "outputs": [
    {
     "name": "stdout",
     "output_type": "stream",
     "text": [
      "tensor([0.0900, 0.2447, 0.6652])\n"
     ]
    }
   ],
   "source": [
    "import torch.nn.functional as F\n",
    "\n",
    "#Create a tensor\n",
    "tensor1 = torch.tensor([1.0, 2.0, 3.0])\n",
    "\n",
    "# Applying Softmax function\n",
    "softmax_output = F.softmax(tensor1, dim = 0)\n",
    "\n",
    "print(softmax_output)"
   ]
  },
  {
   "cell_type": "markdown",
   "id": "6d90b3de-60d0-4e78-a027-151a8ba14810",
   "metadata": {},
   "source": [
    "# 🌐 Embedding Vectors\n",
    "\n",
    "**Embedding vectors** are **dense, trainable representations** of categorical variables. They are primarily used to convert **discrete inputs**—such as words, item IDs, or user IDs—into **continuous vectors** that neural networks can process efficiently.\n",
    "\n",
    "In **Natural Language Processing** (NLP), each word in a vocabulary is mapped to a fixed-size vector of real numbers. These vectors are stored in an embedding matrix, and each row corresponds to the vector for a specific token (like a word or character). The values in this matrix are learned during training, allowing the model to capture semantic relationships between inputs.\n",
    "\n",
    "---\n",
    "\n",
    "## 🧠 Why Use Embeddings?\n",
    "\n",
    "- Categorical data like words or product IDs can't be directly processed by neural networks.\n",
    "- One-hot encoding is inefficient and high-dimensional.\n",
    "- Embeddings reduce dimensionality and **capture relationships** between categories (e.g., similar words have similar embeddings).\n",
    "\n",
    "---\n",
    "\n",
    "Rule of Thumb: ```embedding = nn.Embedding(vocab_size, embedding_dim)```. embedding_dim is a hyperparameter.\n",
    "\n",
    "## 🔧 PyTorch Example\n",
    "\n",
    "You can create and use embeddings in PyTorch using `nn.Embedding`. Here's a simple example:\n",
    "\n",
    "```python\n",
    "import torch\n",
    "import torch.nn as nn\n",
    "\n",
    "# Create an embedding layer\n",
    "embedding = nn.Embedding(num_embeddings=10, embedding_dim=5)\n",
    "\n",
    "# Input tensor with categorical indices\n",
    "input = torch.tensor([1, 2, 3])\n",
    "\n",
    "# Get the embedding vectors\n",
    "output = embedding(input)\n",
    "print(output.shape)  # Output shape: (3, 5)\n",
    "\n",
    "\n"
   ]
  },
  {
   "cell_type": "code",
   "execution_count": 3,
   "id": "c53cbe51",
   "metadata": {},
   "outputs": [],
   "source": [
    "#Initialize an embedding layer\n",
    "vocab_size = 1000\n",
    "embedding_dim = 100\n",
    "embedding = nn.Embedding(vocab_size, embedding_dim)\n",
    "\n",
    "#Create some input indices\n",
    "input_indices = torch.LongTensor([1, 5, 3, 2])\n",
    "\n",
    "#Applying the embedding layer\n",
    "embedded_output = embedding(input_indices)\n",
    "\n"
   ]
  },
  {
   "cell_type": "markdown",
   "id": "a53b11e2-c4c2-4896-9a74-56bd17e33611",
   "metadata": {},
   "source": [
    "The output will be a tensor of shape (4, 100) where 4 is the number of inputs and 100 is the dimensionality of the input vectors."
   ]
  },
  {
   "cell_type": "code",
   "execution_count": 4,
   "id": "c56acebc",
   "metadata": {},
   "outputs": [
    {
     "name": "stdout",
     "output_type": "stream",
     "text": [
      "torch.Size([4, 100])\n"
     ]
    }
   ],
   "source": [
    "print(embedded_output.shape)"
   ]
  },
  {
   "cell_type": "markdown",
   "id": "eb69ffe2-7b1d-44cc-8867-5153c6f87dbd",
   "metadata": {},
   "source": [
    "# Dot Product and Matrix Multiplication"
   ]
  },
  {
   "cell_type": "code",
   "execution_count": 5,
   "id": "034c3cec-20a3-4268-9ceb-98fbcb541173",
   "metadata": {},
   "outputs": [],
   "source": [
    "def DotProd(A, B):\n",
    "    res = 0\n",
    "    for i in range(len(A)):\n",
    "        res += A[i] * B[i]\n",
    "    return res"
   ]
  },
  {
   "cell_type": "code",
   "execution_count": 6,
   "id": "7780ebc2-379f-4729-82f3-5a1e91732a8b",
   "metadata": {},
   "outputs": [
    {
     "data": {
      "text/plain": [
       "32"
      ]
     },
     "execution_count": 6,
     "metadata": {},
     "output_type": "execute_result"
    }
   ],
   "source": [
    "DotProd([1, 2, 3], [4, 5, 6])"
   ]
  },
  {
   "cell_type": "code",
   "execution_count": 9,
   "id": "825a185c-3432-41d0-ba09-8606f73266e0",
   "metadata": {},
   "outputs": [
    {
     "name": "stdout",
     "output_type": "stream",
     "text": [
      "tensor([[ 27,  30,  33],\n",
      "        [ 61,  68,  75],\n",
      "        [ 95, 106, 117]])\n"
     ]
    }
   ],
   "source": [
    "# Matrix Multiplication\n",
    "a = torch.tensor([[1,2], [3, 4], [5, 6]])\n",
    "b = torch.tensor([[7, 8, 9], [10, 11, 12]])\n",
    "print(a @ b)"
   ]
  },
  {
   "cell_type": "code",
   "execution_count": 11,
   "id": "8e9fad19-0875-40ec-81be-1797a2b9280a",
   "metadata": {},
   "outputs": [
    {
     "name": "stdout",
     "output_type": "stream",
     "text": [
      "torch.int64 torch.float32\n"
     ]
    },
    {
     "ename": "RuntimeError",
     "evalue": "expected m1 and m2 to have the same dtype, but got: long long != float",
     "output_type": "error",
     "traceback": [
      "\u001b[31m---------------------------------------------------------------------------\u001b[39m",
      "\u001b[31mRuntimeError\u001b[39m                              Traceback (most recent call last)",
      "\u001b[36mCell\u001b[39m\u001b[36m \u001b[39m\u001b[32mIn[11]\u001b[39m\u001b[32m, line 6\u001b[39m\n\u001b[32m      4\u001b[39m \u001b[38;5;66;03m#type float32\u001b[39;00m\n\u001b[32m      5\u001b[39m \u001b[38;5;28mprint\u001b[39m(int_64.dtype, float_32.dtype)\n\u001b[32m----> \u001b[39m\u001b[32m6\u001b[39m result = \u001b[43mtorch\u001b[49m\u001b[43m.\u001b[49m\u001b[43mmatmul\u001b[49m\u001b[43m(\u001b[49m\u001b[43mint_64\u001b[49m\u001b[43m,\u001b[49m\u001b[43m \u001b[49m\u001b[43mfloat_32\u001b[49m\u001b[43m)\u001b[49m\n\u001b[32m      7\u001b[39m \u001b[38;5;28mprint\u001b[39m(result)\n",
      "\u001b[31mRuntimeError\u001b[39m: expected m1 and m2 to have the same dtype, but got: long long != float"
     ]
    }
   ],
   "source": [
    "int_64 = torch.randint(1, (3, 2))\n",
    "#type int64\n",
    "float_32 = torch.rand(2, 3)\n",
    "#type float32\n",
    "print(int_64.dtype, float_32.dtype)\n",
    "result = torch.matmul(int_64, float_32)\n",
    "print(result)"
   ]
  },
  {
   "cell_type": "markdown",
   "id": "c12f2b79-8542-4a48-8d79-21fce6c5da15",
   "metadata": {},
   "source": [
    "The above error can be avoided through this:"
   ]
  },
  {
   "cell_type": "code",
   "execution_count": 13,
   "id": "2e133507-b593-4435-9acf-40f799919418",
   "metadata": {},
   "outputs": [
    {
     "name": "stdout",
     "output_type": "stream",
     "text": [
      "torch.float32 torch.float32\n",
      "tensor([[0.9278, 0.4474, 0.8127],\n",
      "        [1.0828, 0.5110, 0.9031],\n",
      "        [1.0828, 0.5110, 0.9031]])\n"
     ]
    }
   ],
   "source": [
    "int_64 = torch.randint(2, (3, 2)).float()\n",
    "#type int64\n",
    "float_32 = torch.rand(2, 3)\n",
    "#type float32\n",
    "print(int_64.dtype, float_32.dtype)\n",
    "result = torch.matmul(int_64, float_32)\n",
    "print(result)"
   ]
  },
  {
   "cell_type": "markdown",
   "id": "c3cbc372-7eaf-4910-9c87-d6542c52811a",
   "metadata": {},
   "source": [
    "## Bigram Class - Forward Function working"
   ]
  },
  {
   "cell_type": "code",
   "execution_count": 3,
   "id": "79f5916d-9cf6-4266-9065-b2284f9a29bf",
   "metadata": {},
   "outputs": [
    {
     "name": "stdout",
     "output_type": "stream",
     "text": [
      "tensor([[0.9956, 0.3139, 0.0915, 0.4824, 0.8314, 0.6532, 0.4025, 0.1159, 0.8527,\n",
      "         0.7673],\n",
      "        [0.2866, 0.0593, 0.1632, 0.3909, 0.8187, 0.3670, 0.5797, 0.0939, 0.9752,\n",
      "         0.6992],\n",
      "        [0.5972, 0.7096, 0.2683, 0.0851, 0.5697, 0.2152, 0.0115, 0.9413, 0.2567,\n",
      "         0.9497],\n",
      "        [0.0529, 0.9492, 0.6111, 0.5841, 0.1667, 0.2814, 0.1860, 0.8599, 0.5533,\n",
      "         0.9053],\n",
      "        [0.9985, 0.3350, 0.8465, 0.0031, 0.3436, 0.5445, 0.0718, 0.6499, 0.8506,\n",
      "         0.5818],\n",
      "        [0.4896, 0.3608, 0.7811, 0.1758, 0.2314, 0.3331, 0.9527, 0.9024, 0.3727,\n",
      "         0.8831],\n",
      "        [0.3671, 0.2318, 0.2568, 0.0132, 0.3762, 0.9510, 0.2914, 0.0447, 0.5394,\n",
      "         0.3180],\n",
      "        [0.4184, 0.7837, 0.8294, 0.0502, 0.3810, 0.0268, 0.5376, 0.2696, 0.3349,\n",
      "         0.6585],\n",
      "        [0.9371, 0.3863, 0.0820, 0.1946, 0.2860, 0.2713, 0.8975, 0.5152, 0.0701,\n",
      "         0.0543],\n",
      "        [0.6349, 0.2216, 0.4960, 0.9618, 0.3308, 0.0261, 0.8145, 0.4827, 0.7035,\n",
      "         0.5275],\n",
      "        [0.1807, 0.1726, 0.7708, 0.3031, 0.4479, 0.9037, 0.2132, 0.2410, 0.9900,\n",
      "         0.1113],\n",
      "        [0.6023, 0.3687, 0.3094, 0.1375, 0.4580, 0.6007, 0.3054, 0.5560, 0.3632,\n",
      "         0.9728],\n",
      "        [0.4505, 0.4020, 0.7797, 0.9460, 0.4584, 0.6410, 0.1366, 0.9889, 0.6905,\n",
      "         0.4072],\n",
      "        [0.3525, 0.4038, 0.1142, 0.7815, 0.1576, 0.8026, 0.8543, 0.4748, 0.8027,\n",
      "         0.9199],\n",
      "        [0.4218, 0.1729, 0.3300, 0.4988, 0.4466, 0.8413, 0.5936, 0.6093, 0.2346,\n",
      "         0.2726],\n",
      "        [0.0315, 0.6660, 0.7667, 0.4290, 0.5016, 0.5705, 0.4046, 0.3157, 0.8146,\n",
      "         0.4772],\n",
      "        [0.0232, 0.7434, 0.0570, 0.0073, 0.1110, 0.7338, 0.5290, 0.1895, 0.1602,\n",
      "         0.2715],\n",
      "        [0.1662, 0.6629, 0.3069, 0.5219, 0.7275, 0.8750, 0.9168, 0.8453, 0.5123,\n",
      "         0.8481],\n",
      "        [0.0478, 0.1854, 0.6219, 0.6456, 0.6061, 0.8507, 0.3856, 0.6998, 0.3858,\n",
      "         0.1103],\n",
      "        [0.2666, 0.4419, 0.8046, 0.9712, 0.2594, 0.3691, 0.5786, 0.5612, 0.3195,\n",
      "         0.2897],\n",
      "        [0.6550, 0.3885, 0.6996, 0.5929, 0.2244, 0.9176, 0.6104, 0.1332, 0.7268,\n",
      "         0.6302],\n",
      "        [0.4868, 0.9921, 0.1954, 0.7670, 0.5037, 0.5638, 0.5983, 0.9635, 0.5585,\n",
      "         0.5062],\n",
      "        [0.8877, 0.4874, 0.8829, 0.1256, 0.9549, 0.9688, 0.3232, 0.5861, 0.8382,\n",
      "         0.9665],\n",
      "        [0.2769, 0.8520, 0.0491, 0.8188, 0.6255, 0.0615, 0.6104, 0.4363, 0.3837,\n",
      "         0.6479],\n",
      "        [0.1593, 0.3780, 0.3813, 0.7053, 0.1404, 0.6124, 0.9172, 0.9380, 0.3544,\n",
      "         0.8619],\n",
      "        [0.8287, 0.3019, 0.1261, 0.8005, 0.9422, 0.5986, 0.6529, 0.2010, 0.8127,\n",
      "         0.4175],\n",
      "        [0.0645, 0.7750, 0.9319, 0.8600, 0.5263, 0.8997, 0.9174, 0.1079, 0.1729,\n",
      "         0.7975],\n",
      "        [0.9068, 0.6416, 0.1548, 0.1276, 0.0474, 0.8283, 0.0088, 0.6195, 0.9931,\n",
      "         0.6563],\n",
      "        [0.9276, 0.1037, 0.2359, 0.2599, 0.7798, 0.3884, 0.1621, 0.6490, 0.1359,\n",
      "         0.6754],\n",
      "        [0.8929, 0.3319, 0.4620, 0.9217, 0.1695, 0.9863, 0.9713, 0.6236, 0.7916,\n",
      "         0.8939],\n",
      "        [0.5814, 0.4829, 0.3098, 0.5214, 0.9005, 0.4682, 0.1283, 0.2408, 0.0367,\n",
      "         0.8513],\n",
      "        [0.8208, 0.5085, 0.1847, 0.0752, 0.9722, 0.9329, 0.8517, 0.6325, 0.1030,\n",
      "         0.2185]])\n",
      "tensor([0.7673, 0.6992, 0.9497, 0.9053, 0.5818, 0.8831, 0.3180, 0.6585, 0.0543,\n",
      "        0.5275, 0.1113, 0.9728, 0.4072, 0.9199, 0.2726, 0.4772, 0.2715, 0.8481,\n",
      "        0.1103, 0.2897, 0.6302, 0.5062, 0.9665, 0.6479, 0.8619, 0.4175, 0.7975,\n",
      "        0.6563, 0.6754, 0.8939, 0.8513, 0.2185])\n"
     ]
    }
   ],
   "source": [
    "input = torch.rand((4, 8, 10))\n",
    "B, T, C = input.shape\n",
    "output = input.view(B*T, C)\n",
    "print(output)\n",
    "print(output[:, -1])"
   ]
  },
  {
   "cell_type": "code",
   "execution_count": 4,
   "id": "9d9d9a79-f333-4c57-8fe8-f60610ac8b01",
   "metadata": {},
   "outputs": [
    {
     "data": {
      "text/plain": [
       "torch.Size([32, 10])"
      ]
     },
     "execution_count": 4,
     "metadata": {},
     "output_type": "execute_result"
    }
   ],
   "source": [
    "output.shape"
   ]
  },
  {
   "cell_type": "markdown",
   "id": "1152e925-18c5-4ee6-92f9-c764d28ece50",
   "metadata": {},
   "source": [
    "## Activation Functions"
   ]
  },
  {
   "cell_type": "code",
   "execution_count": 11,
   "id": "2eefe227-fad2-434f-9dfd-c9d92d43583c",
   "metadata": {},
   "outputs": [
    {
     "data": {
      "text/plain": [
       "tensor([0.])"
      ]
     },
     "execution_count": 11,
     "metadata": {},
     "output_type": "execute_result"
    }
   ],
   "source": [
    "x = torch.tensor([-0.05])\n",
    "y = F.relu(x)\n",
    "y"
   ]
  },
  {
   "cell_type": "code",
   "execution_count": 14,
   "id": "ea787c89-013f-49e5-a8c5-e6df207a15d0",
   "metadata": {},
   "outputs": [
    {
     "data": {
      "text/plain": [
       "tensor([0.5000])"
      ]
     },
     "execution_count": 14,
     "metadata": {},
     "output_type": "execute_result"
    }
   ],
   "source": [
    "x = torch.tensor([0.])\n",
    "y = F.sigmoid(x)  # 1/(1 + exp(-x))\n",
    "y"
   ]
  }
 ],
 "metadata": {
  "kernelspec": {
   "display_name": "gpu-gpt",
   "language": "python",
   "name": "gpu_kernel"
  },
  "language_info": {
   "codemirror_mode": {
    "name": "ipython",
    "version": 3
   },
   "file_extension": ".py",
   "mimetype": "text/x-python",
   "name": "python",
   "nbconvert_exporter": "python",
   "pygments_lexer": "ipython3",
   "version": "3.11.4"
  }
 },
 "nbformat": 4,
 "nbformat_minor": 5
}
